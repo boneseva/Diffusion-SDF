{
  "cells": [
    {
      "cell_type": "markdown",
      "metadata": {
        "id": "view-in-github",
        "colab_type": "text"
      },
      "source": [
        "<a href=\"https://colab.research.google.com/github/boneseva/Diffusion-SDF/blob/main/testing/VAE_sdf.ipynb\" target=\"_parent\"><img src=\"https://colab.research.google.com/assets/colab-badge.svg\" alt=\"Open In Colab\"/></a>"
      ]
    },
    {
      "cell_type": "markdown",
      "source": [
        "# **Voxel VAE Training (Diffusion-SDF)**\n",
        "# This notebook trains a 3D VAE on Signed Distance Functions (SDFs) following the Diffusion-SDF paper architecture."
      ],
      "metadata": {
        "id": "h-jq-YtaRzAp"
      },
      "id": "h-jq-YtaRzAp"
    },
    {
      "metadata": {
        "id": "6a3acde17cdae455"
      },
      "cell_type": "code",
      "outputs": [],
      "execution_count": null,
      "source": [],
      "id": "6a3acde17cdae455"
    },
    {
      "cell_type": "code",
      "execution_count": null,
      "metadata": {
        "collapsed": true,
        "id": "initial_id"
      },
      "outputs": [],
      "source": [
        "!pip install pytorch-lightning wandb nibabel torch edt"
      ],
      "id": "initial_id"
    },
    {
      "cell_type": "code",
      "source": [
        "import warnings\n",
        "warnings.filterwarnings(\n",
        "    \"ignore\",\n",
        "    message=\"Torchmetrics v0.9 introduced.*full_state_update\",\n",
        "    category=UserWarning\n",
        ")\n",
        "\n",
        "import os\n",
        "import numpy as np\n",
        "import torch\n",
        "from torch.utils.data import Dataset, DataLoader\n",
        "import torch.nn as nn\n",
        "import torch.nn.functional as F\n",
        "import pytorch_lightning as pl\n",
        "from pytorch_lightning.callbacks import ModelCheckpoint\n",
        "import nibabel as nib\n",
        "import wandb\n",
        "from pytorch_lightning.loggers import WandbLogger"
      ],
      "metadata": {
        "id": "0OVaR5nVa5Sq"
      },
      "id": "0OVaR5nVa5Sq",
      "execution_count": null,
      "outputs": []
    },
    {
      "cell_type": "code",
      "source": [
        "class VoxelSDFDataset(Dataset):\n",
        "    def __init__(self, sdf_dir):\n",
        "        self.sdf_files = [os.path.join(sdf_dir, f) for f in os.listdir(sdf_dir)\n",
        "                          if f.endswith(('.nii', '.nii.gz'))]\n",
        "\n",
        "    def __len__(self):\n",
        "        return len(self.sdf_files)\n",
        "\n",
        "    def __getitem__(self, idx):\n",
        "        # Load and verify SDF data\n",
        "        sdf = nib.load(self.sdf_files[idx]).get_fdata()\n",
        "        assert np.abs(sdf).max() <= 1.0, \"SDF values not normalized!\"\n",
        "        return torch.tensor(sdf, dtype=torch.float32).unsqueeze(0)  # (1, 80, 80, 80)\n",
        "\n",
        "class View(nn.Module):\n",
        "    def __init__(self, shape):\n",
        "        super().__init__()\n",
        "        self.shape = shape\n",
        "\n",
        "    def forward(self, x):\n",
        "        return x.view(*self.shape)\n",
        "\n",
        "class VoxelVAE(pl.LightningModule):\n",
        "    def __init__(self, latent_dim=256):\n",
        "        super().__init__()\n",
        "        self.save_hyperparameters()\n",
        "        self.latent_dim = latent_dim\n",
        "\n",
        "        # Encoder\n",
        "        self.encoder = nn.Sequential(\n",
        "            nn.Conv3d(1, 64, 3, stride=2, padding=1),  # 80 -> 40\n",
        "            nn.ReLU(),\n",
        "            nn.Conv3d(64, 128, 3, stride=2, padding=1),  # 40 -> 20\n",
        "            nn.ReLU(),\n",
        "            nn.Conv3d(128, 256, 3, stride=2, padding=1),  # 20 -> 10\n",
        "            nn.ReLU(),\n",
        "            nn.Flatten(),\n",
        "            nn.Linear(256 * 10 * 10 * 10, latent_dim * 2)\n",
        "        )\n",
        "\n",
        "        # Decoder\n",
        "        self.decoder = nn.Sequential(\n",
        "            nn.Linear(latent_dim, 256 * 10 * 10 * 10),\n",
        "            View((-1, 256, 10, 10, 10)),\n",
        "            nn.ConvTranspose3d(256, 128, 3, stride=2, padding=1, output_padding=1),\n",
        "            nn.ReLU(),\n",
        "            nn.ConvTranspose3d(128, 64, 3, stride=2, padding=1, output_padding=1),\n",
        "            nn.ReLU(),\n",
        "            nn.ConvTranspose3d(64, 1, 3, stride=2, padding=1, output_padding=1),\n",
        "            nn.Tanh()\n",
        "        )\n",
        "\n",
        "    def forward(self, x):\n",
        "        mu_logvar = self.encoder(x)\n",
        "        mu, logvar = mu_logvar.chunk(2, dim=1)\n",
        "        z = self.reparameterize(mu, logvar)\n",
        "        return self.decoder(z), mu, logvar\n",
        "\n",
        "    def reparameterize(self, mu, logvar):\n",
        "        std = torch.exp(0.5 * logvar)\n",
        "        eps = torch.randn_like(std)\n",
        "        return mu + eps * std\n",
        "\n",
        "    def training_step(self, batch, batch_idx):\n",
        "        recon, mu, logvar = self(batch)\n",
        "\n",
        "        recon_loss = F.l1_loss(recon, batch)\n",
        "        kl_loss = -0.5 * torch.sum(1 + logvar - mu.pow(2) - logvar.exp()) / batch.size(0)\n",
        "        total_loss = recon_loss + 1e-5 * kl_loss\n",
        "\n",
        "        self.log('train_loss', total_loss)\n",
        "        self.log('recon_loss', recon_loss)\n",
        "        self.log('kl_loss', kl_loss)\n",
        "\n",
        "        if batch_idx == 0 and self.current_epoch % 5 == 0:\n",
        "            with torch.no_grad():\n",
        "                input_slice = batch[0][0][40].cpu().numpy()\n",
        "                recon_slice = recon[0][0][40].cpu().numpy()\n",
        "\n",
        "                if isinstance(self.logger.experiment, wandb.sdk.wandb_run.Run):\n",
        "                    self.logger.experiment.log({\n",
        "                        \"epoch\": self.current_epoch,\n",
        "                        \"input_slice\": wandb.Image(input_slice),\n",
        "                        \"reconstruction_slice\": wandb.Image(recon_slice),\n",
        "                        \"train_loss\": total_loss.item(),\n",
        "                        \"recon_loss\": recon_loss.item(),\n",
        "                        \"kl_loss\": kl_loss.item()\n",
        "                    })\n",
        "\n",
        "        return total_loss\n",
        "\n",
        "    def configure_optimizers(self):\n",
        "        return torch.optim.Adam(self.parameters(), lr=1e-4)"
      ],
      "metadata": {
        "id": "XmAHajf0bFK4"
      },
      "id": "XmAHajf0bFK4",
      "execution_count": null,
      "outputs": []
    },
    {
      "cell_type": "code",
      "source": [
        "def train():\n",
        "    # Mount Google Drive if using Colab\n",
        "    from google.colab import drive\n",
        "    drive.mount('/content/drive')\n",
        "\n",
        "    config = {\n",
        "        'batch_size': 8,\n",
        "        'latent_dim': 256,\n",
        "        'max_epochs': 20,  # Reduced for Colab demo\n",
        "        'data_path': '/content/your_sdf_data'  # Update this path\n",
        "    }\n",
        "\n",
        "    # Initialize WandB\n",
        "    wandb.login()\n",
        "    wandb_logger = WandbLogger(\n",
        "        project=\"Diffusion-SDF-VAE\",\n",
        "        name=\"colab-vae-training\",\n",
        "        config=config,\n",
        "    )\n",
        "\n",
        "    # Dataset & DataLoader\n",
        "    dataset = VoxelSDFDataset(config['data_path'])\n",
        "    loader = DataLoader(dataset,\n",
        "                        batch_size=config['batch_size'],\n",
        "                        shuffle=True,\n",
        "                        num_workers=2,\n",
        "                        pin_memory=True)\n",
        "\n",
        "    # Model & Trainer\n",
        "    model = VoxelVAE(latent_dim=config['latent_dim'])\n",
        "\n",
        "    trainer = pl.Trainer(\n",
        "        accelerator='auto',\n",
        "        devices=1 if torch.cuda.is_available() else None,\n",
        "        max_epochs=config['max_epochs'],\n",
        "        logger=wandb_logger,\n",
        "        callbacks=[\n",
        "            ModelCheckpoint(\n",
        "                dirpath='checkpoints',\n",
        "                filename='vae-{epoch}-{train_loss:.2f}',\n",
        "                save_top_k=3,\n",
        "                monitor='train_loss'\n",
        "            )\n",
        "        ]\n",
        "    )\n",
        "\n",
        "    trainer.fit(model, loader)\n",
        "    wandb.finish()"
      ],
      "metadata": {
        "id": "38y7iQP2bNxY"
      },
      "id": "38y7iQP2bNxY",
      "execution_count": null,
      "outputs": []
    },
    {
      "cell_type": "code",
      "source": [
        "train()"
      ],
      "metadata": {
        "id": "1YvRKmo0bQ7Y"
      },
      "id": "1YvRKmo0bQ7Y",
      "execution_count": null,
      "outputs": []
    },
    {
      "cell_type": "markdown",
      "source": [],
      "metadata": {
        "id": "ypCVsoJIawHo"
      },
      "id": "ypCVsoJIawHo"
    }
  ],
  "metadata": {
    "kernelspec": {
      "display_name": "Python 3",
      "language": "python",
      "name": "python3"
    },
    "language_info": {
      "codemirror_mode": {
        "name": "ipython",
        "version": 2
      },
      "file_extension": ".py",
      "mimetype": "text/x-python",
      "name": "python",
      "nbconvert_exporter": "python",
      "pygments_lexer": "ipython2",
      "version": "2.7.6"
    },
    "colab": {
      "provenance": [],
      "include_colab_link": true
    }
  },
  "nbformat": 4,
  "nbformat_minor": 5
}